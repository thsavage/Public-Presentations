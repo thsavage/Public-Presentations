{
 "cells": [
  {
   "cell_type": "markdown",
   "metadata": {
    "slideshow": {
     "slide_type": "slide"
    }
   },
   "source": [
    "### Economics, Finance and Investing\n",
    "\n",
    "#### Timothy H. Savage, Ph.D. CRE\n",
    "\n",
    "##### NYU Schack Institute of Real Estate\n",
    "\n",
    "##### Faculty Director | CREFC Center for Real Estate Finance at NYU Schack\n",
    "\n",
    "##### Faculty Co-Director | NYU Applied Analytics Lab\n",
    "\n",
    "###### Note: I am not a registered investment advisor (RIA) and do not provide advise on specific investments"
   ]
  },
  {
   "cell_type": "code",
   "execution_count": 1,
   "metadata": {
    "slideshow": {
     "slide_type": "skip"
    }
   },
   "outputs": [
    {
     "name": "stdout",
     "output_type": "stream",
     "text": [
      "Populating the interactive namespace from numpy and matplotlib\n"
     ]
    }
   ],
   "source": [
    "%pylab inline\n",
    "from IPython.display import Image\n",
    "import urllib.request as url\n",
    "import io\n",
    "import matplotlib.pyplot as plt\n",
    "import numpy as np\n",
    "import pandas as pd\n",
    "import seaborn as sns\n",
    "import statsmodels as sm\n",
    "import statsmodels.formula.api as smf\n",
    "import statsmodels.api as sma\n",
    "import patsy\n",
    "from statsmodels.graphics.api import abline_plot\n",
    "import numpy.linalg as linalg\n",
    "from mpl_toolkits.mplot3d import Axes3D\n",
    "from matplotlib.colors import ListedColormap\n",
    "from sklearn import neighbors, datasets\n",
    "from tabulate import tabulate\n",
    "sns.set(context='notebook', style='whitegrid', palette='deep', font='sans-serif', font_scale=1, rc=None)\n",
    "\n",
    "import datetime as dt\n",
    "from fredapi import Fred\n",
    "fred = Fred(api_key='30e6ecb242a73869e11cb35f6aa3afc3')"
   ]
  },
  {
   "cell_type": "markdown",
   "metadata": {
    "slideshow": {
     "slide_type": "slide"
    }
   },
   "source": [
    "## Semana 1\n",
    "### Arc and objectives of the course\n",
    "#### Your goals\n",
    "#### My goals"
   ]
  },
  {
   "cell_type": "markdown",
   "metadata": {
    "slideshow": {
     "slide_type": "slide"
    }
   },
   "source": [
    "## Semana 2\n",
    "### Economics as the basis of finance: understanding how people behave\n",
    "#### Supply, demand and equilibrium: a logical framework\n",
    "#### Shocks to equilibrium: understanding the current macroeceonomic environment"
   ]
  },
  {
   "cell_type": "markdown",
   "metadata": {
    "slideshow": {
     "slide_type": "slide"
    }
   },
   "source": [
    "## Semanas 3, 4 and 5\n",
    "### Finance as the basis of investing: understanding the trade-off between risk and return\n",
    "#### Asset classes and asset valuation: time is all we have (tiempo es todo lo que tenemos)\n",
    "#### Measuring investment performance\n",
    "#### The cost of debt and the value of savings"
   ]
  },
  {
   "cell_type": "markdown",
   "metadata": {
    "slideshow": {
     "slide_type": "slide"
    }
   },
   "source": [
    "## Semana 6\n",
    "### Course assessment\n",
    "#### What did you learn?\n",
    "#### What did we not address?"
   ]
  }
 ],
 "metadata": {
  "celltoolbar": "Slideshow",
  "kernelspec": {
   "display_name": "Python 3",
   "language": "python",
   "name": "python3"
  },
  "language_info": {
   "codemirror_mode": {
    "name": "ipython",
    "version": 3
   },
   "file_extension": ".py",
   "mimetype": "text/x-python",
   "name": "python",
   "nbconvert_exporter": "python",
   "pygments_lexer": "ipython3",
   "version": "3.8.8"
  }
 },
 "nbformat": 4,
 "nbformat_minor": 2
}
