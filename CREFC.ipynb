{
 "cells": [
  {
   "cell_type": "markdown",
   "metadata": {
    "slideshow": {
     "slide_type": "slide"
    }
   },
   "source": [
    "## The CREFC Center of Real Estate Finance at NYU\n",
    "\n",
    "### Professor Timothy H. Savage, Ph.D. CRE\n",
    "\n",
    "#### NYU Schack Institute of Real Estate\n",
    "\n",
    "#### Faculty Director | CREFC Center for Real Estate Finance at NYU Schack\n",
    "\n",
    "#### Distinguished Fellow | NAIOP Research Foundation\n",
    "\n",
    "#### Mentor | Real Estate Research Institute"
   ]
  },
  {
   "cell_type": "markdown",
   "metadata": {
    "slideshow": {
     "slide_type": "slide"
    }
   },
   "source": [
    "## The Process\n",
    "\n",
    "* A competitive RFP from CREFC to the largest CRE institutes\n",
    "* Awarded based on Schack's unrivaled scope and scale"
   ]
  },
  {
   "cell_type": "markdown",
   "metadata": {
    "slideshow": {
     "slide_type": "slide"
    }
   },
   "source": [
    "## The Mission Statement\n",
    "\n",
    "* Create a bridge between academic finance and industry finance\n",
    "* Create a prominent finance certificate for working professionals\n",
    "* Engage with other NYU centers on topics of mutual interest"
   ]
  },
  {
   "cell_type": "markdown",
   "metadata": {
    "slideshow": {
     "slide_type": "slide"
    }
   },
   "source": [
    "## The Inaugural CREFC Fellows (AY 2020 - 2021)\n",
    "\n",
    "* Jack Cohen, Stronghill Capital\n",
    "* Jan Sternin, Berkadia\n",
    "* Working with two Schack graduate students to examine recent trends in workforce housing"
   ]
  },
  {
   "cell_type": "markdown",
   "metadata": {
    "slideshow": {
     "slide_type": "slide"
    }
   },
   "source": [
    "## The Certficate\n",
    "\n",
    "* Launched in February 2021 with a seven-week course in CRE finance\n",
    "* Courses in legal principals and RPM for spring 2021\n",
    "* Reached classroom capacity with summer 2021 capital markets "
   ]
  },
  {
   "cell_type": "markdown",
   "metadata": {
    "slideshow": {
     "slide_type": "slide"
    }
   },
   "source": [
    "## My Contact Information\n",
    "\n",
    "* **Email**: $\\text{timothy.savage@nyu.edu}$\n",
    "* **Mobile**: $\\text{+01.917.291.8586}$\n",
    "* **GitHub**: $\\text{github.com/thsavage}$\n",
    "* **LinkedIn**: $\\text{Easy to find}$"
   ]
  }
 ],
 "metadata": {
  "celltoolbar": "Slideshow",
  "kernelspec": {
   "display_name": "Python 3",
   "language": "python",
   "name": "python3"
  },
  "language_info": {
   "codemirror_mode": {
    "name": "ipython",
    "version": 3
   },
   "file_extension": ".py",
   "mimetype": "text/x-python",
   "name": "python",
   "nbconvert_exporter": "python",
   "pygments_lexer": "ipython3",
   "version": "3.8.8"
  }
 },
 "nbformat": 4,
 "nbformat_minor": 2
}
